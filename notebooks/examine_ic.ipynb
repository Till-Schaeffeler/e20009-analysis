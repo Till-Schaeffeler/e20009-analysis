{
 "cells": [
  {
   "cell_type": "code",
   "execution_count": null,
   "metadata": {},
   "outputs": [],
   "source": [
    "## Create IC Sprectrum of all events ##\n",
    "## Each pointcloud has an attribute called ic_amplitude ##\n",
    "## The IC Spectrum is a histogram of this value ##"
   ]
  },
  {
   "cell_type": "code",
   "execution_count": 7,
   "metadata": {},
   "outputs": [
    {
     "ename": "AttributeError",
     "evalue": "module 'matplotlib' has no attribute 'get_data_path'",
     "output_type": "error",
     "traceback": [
      "\u001b[1;31m---------------------------------------------------------------------------\u001b[0m",
      "\u001b[1;31mAttributeError\u001b[0m                            Traceback (most recent call last)",
      "Cell \u001b[1;32mIn[7], line 7\u001b[0m\n\u001b[0;32m      5\u001b[0m \u001b[38;5;28;01mimport\u001b[39;00m\u001b[38;5;250m \u001b[39m\u001b[38;5;21;01mh5py\u001b[39;00m\n\u001b[0;32m      6\u001b[0m \u001b[38;5;28;01mimport\u001b[39;00m\u001b[38;5;250m \u001b[39m\u001b[38;5;21;01mpolars\u001b[39;00m\u001b[38;5;250m \u001b[39m\u001b[38;5;28;01mas\u001b[39;00m\u001b[38;5;250m \u001b[39m\u001b[38;5;21;01mpl\u001b[39;00m\n\u001b[1;32m----> 7\u001b[0m \u001b[38;5;28;01mimport\u001b[39;00m\u001b[38;5;250m \u001b[39m\u001b[38;5;21;01mmatplotlib\u001b[39;00m\u001b[38;5;21;01m.\u001b[39;00m\u001b[38;5;21;01mpyplot\u001b[39;00m\u001b[38;5;250m \u001b[39m\u001b[38;5;28;01mas\u001b[39;00m\u001b[38;5;250m \u001b[39m\u001b[38;5;21;01mplt\u001b[39;00m\n\u001b[0;32m      9\u001b[0m get_ipython()\u001b[38;5;241m.\u001b[39mrun_line_magic(\u001b[38;5;124m'\u001b[39m\u001b[38;5;124mmatplotlib\u001b[39m\u001b[38;5;124m'\u001b[39m, \u001b[38;5;124m'\u001b[39m\u001b[38;5;124mwidget\u001b[39m\u001b[38;5;124m'\u001b[39m)\n",
      "File \u001b[1;32mc:\\Users\\schaeffe\\.conda\\envs\\e20009_spyral_v11\\Lib\\site-packages\\matplotlib\\__init__.py:977\u001b[0m\n\u001b[0;32m    970\u001b[0m     \u001b[38;5;28;01mreturn\u001b[39;00m config\n\u001b[0;32m    973\u001b[0m \u001b[38;5;66;03m# When constructing the global instances, we need to perform certain updates\u001b[39;00m\n\u001b[0;32m    974\u001b[0m \u001b[38;5;66;03m# by explicitly calling the superclass (dict.update, dict.items) to avoid\u001b[39;00m\n\u001b[0;32m    975\u001b[0m \u001b[38;5;66;03m# triggering resolution of _auto_backend_sentinel.\u001b[39;00m\n\u001b[0;32m    976\u001b[0m rcParamsDefault \u001b[38;5;241m=\u001b[39m _rc_params_in_file(\n\u001b[1;32m--> 977\u001b[0m     \u001b[43mcbook\u001b[49m\u001b[38;5;241;43m.\u001b[39;49m\u001b[43m_get_data_path\u001b[49m\u001b[43m(\u001b[49m\u001b[38;5;124;43m\"\u001b[39;49m\u001b[38;5;124;43mmatplotlibrc\u001b[39;49m\u001b[38;5;124;43m\"\u001b[39;49m\u001b[43m)\u001b[49m,\n\u001b[0;32m    978\u001b[0m     \u001b[38;5;66;03m# Strip leading comment.\u001b[39;00m\n\u001b[0;32m    979\u001b[0m     transform\u001b[38;5;241m=\u001b[39m\u001b[38;5;28;01mlambda\u001b[39;00m line: line[\u001b[38;5;241m1\u001b[39m:] \u001b[38;5;28;01mif\u001b[39;00m line\u001b[38;5;241m.\u001b[39mstartswith(\u001b[38;5;124m\"\u001b[39m\u001b[38;5;124m#\u001b[39m\u001b[38;5;124m\"\u001b[39m) \u001b[38;5;28;01melse\u001b[39;00m line,\n\u001b[0;32m    980\u001b[0m     fail_on_error\u001b[38;5;241m=\u001b[39m\u001b[38;5;28;01mTrue\u001b[39;00m)\n\u001b[0;32m    981\u001b[0m \u001b[38;5;28mdict\u001b[39m\u001b[38;5;241m.\u001b[39mupdate(rcParamsDefault, rcsetup\u001b[38;5;241m.\u001b[39m_hardcoded_defaults)\n\u001b[0;32m    982\u001b[0m \u001b[38;5;66;03m# Normally, the default matplotlibrc file contains *no* entry for backend (the\u001b[39;00m\n\u001b[0;32m    983\u001b[0m \u001b[38;5;66;03m# corresponding line starts with ##, not #; we fill on _auto_backend_sentinel\u001b[39;00m\n\u001b[0;32m    984\u001b[0m \u001b[38;5;66;03m# in that case.  However, packagers can set a different default backend\u001b[39;00m\n\u001b[0;32m    985\u001b[0m \u001b[38;5;66;03m# (resulting in a normal `#backend: foo` line) in which case we should *not*\u001b[39;00m\n\u001b[0;32m    986\u001b[0m \u001b[38;5;66;03m# fill in _auto_backend_sentinel.\u001b[39;00m\n",
      "File \u001b[1;32mc:\\Users\\schaeffe\\.conda\\envs\\e20009_spyral_v11\\Lib\\site-packages\\matplotlib\\cbook.py:545\u001b[0m, in \u001b[0;36m_get_data_path\u001b[1;34m(*args)\u001b[0m\n\u001b[0;32m    539\u001b[0m \u001b[38;5;28;01mdef\u001b[39;00m\u001b[38;5;250m \u001b[39m\u001b[38;5;21m_get_data_path\u001b[39m(\u001b[38;5;241m*\u001b[39margs):\n\u001b[0;32m    540\u001b[0m \u001b[38;5;250m    \u001b[39m\u001b[38;5;124;03m\"\"\"\u001b[39;00m\n\u001b[0;32m    541\u001b[0m \u001b[38;5;124;03m    Return the `pathlib.Path` to a resource file provided by Matplotlib.\u001b[39;00m\n\u001b[0;32m    542\u001b[0m \n\u001b[0;32m    543\u001b[0m \u001b[38;5;124;03m    ``*args`` specify a path relative to the base data path.\u001b[39;00m\n\u001b[0;32m    544\u001b[0m \u001b[38;5;124;03m    \"\"\"\u001b[39;00m\n\u001b[1;32m--> 545\u001b[0m     \u001b[38;5;28;01mreturn\u001b[39;00m Path(\u001b[43mmatplotlib\u001b[49m\u001b[38;5;241;43m.\u001b[39;49m\u001b[43mget_data_path\u001b[49m(), \u001b[38;5;241m*\u001b[39margs)\n",
      "\u001b[1;31mAttributeError\u001b[0m: module 'matplotlib' has no attribute 'get_data_path'"
     ]
    }
   ],
   "source": [
    "from spyral.core.run_stacks import form_run_string\n",
    "from spyral_utils.plot import Histogrammer ## Custom histogramming tool \n",
    "\n",
    "from pathlib import Path\n",
    "import h5py\n",
    "import polars as pl\n",
    "import matplotlib.pyplot as plt\n",
    "\n",
    "%matplotlib widget"
   ]
  },
  {
   "cell_type": "code",
   "execution_count": 8,
   "metadata": {},
   "outputs": [],
   "source": [
    "path_to_converted = Path(\"c:\\\\Users\\\\schaeffe\\\\Desktop\\\\e20009_dalitz_output\\\\Pointcloud\") ## Follow naming convetion of spyral-v16 \n",
    "\n",
    "start_run = 108\n",
    "end_run = 320"
   ]
  },
  {
   "cell_type": "code",
   "execution_count": null,
   "metadata": {},
   "outputs": [],
   "source": [
    "# Create a list to store the event data\n",
    "event_data_list = []\n",
    "total_events = 0  # Counter to keep track of the total number of events\n",
    "\n",
    "# Iterate over the runs\n",
    "for run_number in range(start_run, end_run):  \n",
    "    print(f\"Processing Run Number: {run_number}\")\n",
    "\n",
    "    converted_file_path = path_to_converted / f\"{form_run_string(run_number)}.h5\" \n",
    "\n",
    "    # Ensure the converted file exists\n",
    "    if not converted_file_path.exists():\n",
    "        print(f\"Converted file not found: {converted_file_path}. Skipping ...\")\n",
    "        continue\n",
    "\n",
    "    with h5py.File(converted_file_path, 'r') as converted_file:\n",
    "        cloud_group: h5py.Group = converted_file.get('cloud')\n",
    "        if cloud_group is None:\n",
    "            print(\"No 'cloud' group found. Skipping ...\")\n",
    "            continue\n",
    "\n",
    "        # Ensure attributes exist before accessing them\n",
    "        if \"min_event\" not in cloud_group.attrs or \"max_event\" not in cloud_group.attrs:\n",
    "            print(\"Missing min_event or max_event attributes. Skipping ...\")\n",
    "            continue\n",
    "        \n",
    "        min_event = cloud_group.attrs['min_event']\n",
    "        max_event = cloud_group.attrs['max_event']\n",
    "        print(f\"Events range from {min_event} to {max_event}\")\n",
    "\n",
    "        # Iterate through events\n",
    "        for event_number in range(min_event, max_event + 1):\n",
    "            event_key = f'cloud_{event_number}'\n",
    "            if event_key in cloud_group:\n",
    "                pc_dataset = cloud_group[event_key]\n",
    "                \n",
    "                # Extract the relevant attributes\n",
    "                event_data = {\n",
    "                    \"run_number\": run_number,\n",
    "                    \"event_number\": event_number,\n",
    "                    \"orig_run\": pc_dataset.attrs.get(\"orig_run\", None),\n",
    "                    \"orig_event\": pc_dataset.attrs.get(\"orig_event\", None),\n",
    "                    \"ic_amplitude\": pc_dataset.attrs.get(\"ic_amplitude\", None),\n",
    "                    \"ic_centroid\": pc_dataset.attrs.get(\"ic_centroid\", None),\n",
    "                    \"ic_integral\": pc_dataset.attrs.get(\"ic_integral\", None),\n",
    "                    \"ic_multiplicity\": pc_dataset.attrs.get(\"ic_multiplicity\", None),\n",
    "                    \"ic_sca_centroid\": pc_dataset.attrs.get(\"ic_sca_centroid\", None),\n",
    "                    \"ic_sca_multiplicity\": pc_dataset.attrs.get(\"ic_sca_multiplicity\", None)\n",
    "                }\n",
    "\n",
    "                # Append the data to the list\n",
    "                event_data_list.append(event_data)\n",
    "                total_events += 1  # Increment the event counter\n",
    "\n",
    "# Convert the list to a pandas DataFrame (if you prefer to work with pandas)\n",
    "df = pl.DataFrame(event_data_list)\n",
    "print(f\"Total events processed: {total_events}\")\n",
    "print(df)\n"
   ]
  },
  {
   "cell_type": "code",
   "execution_count": null,
   "metadata": {},
   "outputs": [],
   "source": [
    "# columns_to_remove = [\"run_number\", \"event_number\"]\n",
    "# df = df.drop(columns_to_remove)\n",
    "print(df)"
   ]
  },
  {
   "cell_type": "code",
   "execution_count": null,
   "metadata": {},
   "outputs": [],
   "source": [
    "print(df)"
   ]
  },
  {
   "cell_type": "code",
   "execution_count": null,
   "metadata": {},
   "outputs": [],
   "source": [
    "# output_parquet_path = Path(\"c:\\\\Users\\\\schaeffe\\\\Desktop\\\\e20009_dalitz_output\\\\total_event_data.parquet\")\n",
    "\n",
    "# # Convert to LazyFrame and collect\n",
    "# df = pl.LazyFrame(event_data_list).collect()\n",
    "\n",
    "# # Save to a Parquet file\n",
    "# df.write_parquet(output_parquet_path)\n",
    "\n",
    "# print(f\"Total events processed: {total_events}\")\n",
    "# print(f\"Data saved to: {output_parquet_path}\")"
   ]
  },
  {
   "cell_type": "code",
   "execution_count": null,
   "metadata": {},
   "outputs": [],
   "source": [
    "big_parquet_path = Path(\"c:\\\\Users\\\\schaeffe\\\\Desktop\\\\e20009_dalitz_output\\\\total_event_data.parquet\")\n",
    "output_dir = Path(\"c:\\\\Users\\\\schaeffe\\\\Desktop\\\\e20009_dalitz_output\\\\EventData\")\n",
    "\n",
    "# Ensure output directory exists\n",
    "output_dir.mkdir(parents=True, exist_ok=True)\n",
    "\n",
    "# Load the big Parquet file\n",
    "df = pl.read_parquet(big_parquet_path)\n",
    "\n",
    "# Get unique runs\n",
    "unique_runs = df[\"orig_run\"].unique().to_list()\n",
    "\n",
    "# Split and save each run separately\n",
    "for run in unique_runs:\n",
    "    run_df = df.filter(df[\"orig_run\"] == run)\n",
    "    run_parquet_path = output_dir / f\"{form_run_string(run_number)}.parquet\"\n",
    "    run_df.write_parquet(run_parquet_path)\n",
    "    print(f\"Saved {len(run_df)} events to {run_parquet_path}\")\n",
    "\n",
    "print(\"Splitting complete.\")"
   ]
  },
  {
   "cell_type": "code",
   "execution_count": null,
   "metadata": {},
   "outputs": [],
   "source": [
    "# Define paths\n",
    "input_dir = Path(\"c:\\\\Users\\\\schaeffe\\\\Desktop\\\\e20009_dalitz_output\\\\Pointcloud\")\n",
    "output_dir = Path(\"c:\\\\Users\\\\schaeffe\\\\Desktop\\\\e20009_dalitz_output\\\\EventData\")\n",
    "output_dir.mkdir(parents=True, exist_ok=True)\n",
    "\n",
    "# Define runs to process\n",
    "start_run = 320\n",
    "end_run = 320  # Adjust as needed\n",
    "\n",
    "for run_number in range(start_run, end_run+1):\n",
    "    h5_file_path = input_dir / f\"{form_run_string(run_number)}.h5\" \n",
    "    \n",
    "    \n",
    "    if not h5_file_path.exists():\n",
    "        print(f\"File {h5_file_path} not found. Skipping...\")\n",
    "        continue\n",
    "\n",
    "    with h5py.File(h5_file_path, 'r') as h5_file:\n",
    "        cloud_group = h5_file.get('cloud')\n",
    "        if cloud_group is None:\n",
    "            print(f\"No 'cloud' group in {h5_file_path}. Skipping...\")\n",
    "            continue\n",
    "\n",
    "        min_event = cloud_group.attrs['min_event']\n",
    "        max_event = cloud_group.attrs['max_event']\n",
    "\n",
    "        event_data_list = []\n",
    "\n",
    "        for event_number in range(min_event, max_event + 1):\n",
    "            event_key = f'cloud_{event_number}'\n",
    "            if event_key in cloud_group:\n",
    "                dataset = cloud_group[event_key]\n",
    "\n",
    "                event_data = {\n",
    "                    \"orig_run\": run_number,\n",
    "                    \"orig_event\": event_number,\n",
    "                    \"ic_amplitude\": dataset.attrs.get(\"ic_amplitude\", 0),\n",
    "                    \"ic_centroid\": dataset.attrs.get(\"ic_centroid\", 0.0),\n",
    "                    \"ic_integral\": dataset.attrs.get(\"ic_integral\", 0),\n",
    "                    \"ic_multiplicity\": dataset.attrs.get(\"ic_multiplicity\", 0),\n",
    "                    \"ic_sca_centroid\": dataset.attrs.get(\"ic_sca_centroid\", 0.0),\n",
    "                    \"ic_sca_multiplicity\": dataset.attrs.get(\"ic_sca_multiplicity\", 0),\n",
    "                }\n",
    "                event_data_list.append(event_data)\n",
    "\n",
    "        if event_data_list:\n",
    "            df = pl.DataFrame(event_data_list)\n",
    "            parquet_file_path = output_dir / f\"{form_run_string(run_number)}.parquet\" \n",
    "            df.write_parquet(parquet_file_path)\n",
    "            print(f\"Saved {len(df)} events to {parquet_file_path}\")\n",
    "\n",
    "print(\"Processing complete.\")\n"
   ]
  },
  {
   "cell_type": "code",
   "execution_count": 9,
   "metadata": {},
   "outputs": [],
   "source": [
    "grammer = Histogrammer()\n",
    "\n",
    "grammer.add_hist1d('total_events_ic', 4095, (0.0, 4095.0))\n",
    "\n",
    "event_data_path = Path(\"c:\\\\Users\\\\schaeffe\\\\Desktop\\\\e20009_analysis-output\\\\EventData\")\n",
    "\n",
    "start_run = 108\n",
    "end_run = 320  # Adjust as needed\n",
    "\n",
    "ic_min_val = 900\n",
    "ic_max_val = 1300\n",
    "\n",
    "for run in range(start_run, end_run+1):\n",
    "    df = None\n",
    "    try:\n",
    "        path = event_data_path / f\"{form_run_string(run)}.parquet\"\n",
    "        df = pl.read_parquet(path)\n",
    "    except Exception:\n",
    "        continue\n",
    "\n",
    "    # Apply appropriate analysis gates\n",
    "    df = df.filter((pl.col(\"ic_multiplicity\") == 1)\n",
    "                 & (pl.col(\"ic_sca_multiplicity\") == 1))\n",
    "    df = df.filter(\n",
    "        (abs(pl.col(\"ic_centroid\") - pl.col(\"ic_sca_centroid\")) <= 10)\n",
    "    )\n",
    "    df = df.filter((pl.col('ic_amplitude') > ic_min_val) & (pl.col('ic_amplitude') < ic_max_val))\n",
    "\n",
    "\n",
    "    ic_amp = df.select(pl.col(\"ic_amplitude\")).to_numpy().flatten()\n",
    "    # print(run)\n",
    "    # print(len(ic_amp))\n",
    "    grammer.fill_hist1d(\"total_events_ic\", ic_amp)"
   ]
  },
  {
   "cell_type": "code",
   "execution_count": 10,
   "metadata": {},
   "outputs": [
    {
     "name": "stdout",
     "output_type": "stream",
     "text": [
      "shape: (4_874, 8)\n",
      "┌──────────┬────────────┬────────────┬────────────┬────────────┬───────────┬───────────┬───────────┐\n",
      "│ orig_run ┆ orig_event ┆ ic_amplitu ┆ ic_centroi ┆ ic_integra ┆ ic_multip ┆ ic_sca_ce ┆ ic_sca_mu │\n",
      "│ ---      ┆ ---        ┆ de         ┆ d          ┆ l          ┆ licity    ┆ ntroid    ┆ ltiplicit │\n",
      "│ i64      ┆ i64        ┆ ---        ┆ ---        ┆ ---        ┆ ---       ┆ ---       ┆ y         │\n",
      "│          ┆            ┆ f64        ┆ f64        ┆ f64        ┆ f64       ┆ f64       ┆ ---       │\n",
      "│          ┆            ┆            ┆            ┆            ┆           ┆           ┆ i64       │\n",
      "╞══════════╪════════════╪════════════╪════════════╪════════════╪═══════════╪═══════════╪═══════════╡\n",
      "│ 320      ┆ 1506475    ┆ 1253.0     ┆ 67.886579  ┆ 6057.0     ┆ 1.0       ┆ 70.812739 ┆ 1         │\n",
      "│ 320      ┆ 1506482    ┆ 1156.0     ┆ 66.139245  ┆ 6164.0     ┆ 1.0       ┆ 69.256807 ┆ 1         │\n",
      "│ 320      ┆ 1506485    ┆ 1041.0     ┆ 67.177654  ┆ 5597.0     ┆ 1.0       ┆ 70.003629 ┆ 1         │\n",
      "│ 320      ┆ 1506494    ┆ 1188.0     ┆ 66.558     ┆ 6507.0     ┆ 1.0       ┆ 69.72148  ┆ 1         │\n",
      "│ 320      ┆ 1506504    ┆ 1101.0     ┆ 67.636383  ┆ 5576.0     ┆ 1.0       ┆ 70.328783 ┆ 1         │\n",
      "│ …        ┆ …          ┆ …          ┆ …          ┆ …          ┆ …         ┆ …         ┆ …         │\n",
      "│ 320      ┆ 1543466    ┆ 1022.0     ┆ 66.73981   ┆ 6087.0     ┆ 1.0       ┆ 69.347677 ┆ 1         │\n",
      "│ 320      ┆ 1543474    ┆ 1033.0     ┆ 67.027224  ┆ 5432.0     ┆ 1.0       ┆ 70.700649 ┆ 1         │\n",
      "│ 320      ┆ 1543476    ┆ 1099.0     ┆ 68.095938  ┆ 5077.0     ┆ 1.0       ┆ 70.683855 ┆ 1         │\n",
      "│ 320      ┆ 1543486    ┆ 1036.0     ┆ 67.768487  ┆ 5778.0     ┆ 1.0       ┆ 70.465225 ┆ 1         │\n",
      "│ 320      ┆ 1543498    ┆ 1014.0     ┆ 67.983333  ┆ 5345.0     ┆ 1.0       ┆ 70.53869  ┆ 1         │\n",
      "└──────────┴────────────┴────────────┴────────────┴────────────┴───────────┴───────────┴───────────┘\n"
     ]
    }
   ],
   "source": [
    "print(df)"
   ]
  },
  {
   "cell_type": "code",
   "execution_count": 12,
   "metadata": {},
   "outputs": [
    {
     "ename": "AttributeError",
     "evalue": "module 'matplotlib' has no attribute 'get_data_path'",
     "output_type": "error",
     "traceback": [
      "\u001b[1;31m---------------------------------------------------------------------------\u001b[0m",
      "\u001b[1;31mAttributeError\u001b[0m                            Traceback (most recent call last)",
      "Cell \u001b[1;32mIn[12], line 1\u001b[0m\n\u001b[1;32m----> 1\u001b[0m \u001b[38;5;28;01mimport\u001b[39;00m\u001b[38;5;250m \u001b[39m\u001b[38;5;21;01mmatplotlib\u001b[39;00m\u001b[38;5;21;01m.\u001b[39;00m\u001b[38;5;21;01mpyplot\u001b[39;00m\u001b[38;5;250m \u001b[39m\u001b[38;5;28;01mas\u001b[39;00m\u001b[38;5;250m \u001b[39m\u001b[38;5;21;01mplt\u001b[39;00m\n",
      "File \u001b[1;32mc:\\Users\\schaeffe\\.conda\\envs\\e20009_spyral_v11\\Lib\\site-packages\\matplotlib\\__init__.py:977\u001b[0m\n\u001b[0;32m    970\u001b[0m     \u001b[38;5;28;01mreturn\u001b[39;00m config\n\u001b[0;32m    973\u001b[0m \u001b[38;5;66;03m# When constructing the global instances, we need to perform certain updates\u001b[39;00m\n\u001b[0;32m    974\u001b[0m \u001b[38;5;66;03m# by explicitly calling the superclass (dict.update, dict.items) to avoid\u001b[39;00m\n\u001b[0;32m    975\u001b[0m \u001b[38;5;66;03m# triggering resolution of _auto_backend_sentinel.\u001b[39;00m\n\u001b[0;32m    976\u001b[0m rcParamsDefault \u001b[38;5;241m=\u001b[39m _rc_params_in_file(\n\u001b[1;32m--> 977\u001b[0m     \u001b[43mcbook\u001b[49m\u001b[38;5;241;43m.\u001b[39;49m\u001b[43m_get_data_path\u001b[49m\u001b[43m(\u001b[49m\u001b[38;5;124;43m\"\u001b[39;49m\u001b[38;5;124;43mmatplotlibrc\u001b[39;49m\u001b[38;5;124;43m\"\u001b[39;49m\u001b[43m)\u001b[49m,\n\u001b[0;32m    978\u001b[0m     \u001b[38;5;66;03m# Strip leading comment.\u001b[39;00m\n\u001b[0;32m    979\u001b[0m     transform\u001b[38;5;241m=\u001b[39m\u001b[38;5;28;01mlambda\u001b[39;00m line: line[\u001b[38;5;241m1\u001b[39m:] \u001b[38;5;28;01mif\u001b[39;00m line\u001b[38;5;241m.\u001b[39mstartswith(\u001b[38;5;124m\"\u001b[39m\u001b[38;5;124m#\u001b[39m\u001b[38;5;124m\"\u001b[39m) \u001b[38;5;28;01melse\u001b[39;00m line,\n\u001b[0;32m    980\u001b[0m     fail_on_error\u001b[38;5;241m=\u001b[39m\u001b[38;5;28;01mTrue\u001b[39;00m)\n\u001b[0;32m    981\u001b[0m \u001b[38;5;28mdict\u001b[39m\u001b[38;5;241m.\u001b[39mupdate(rcParamsDefault, rcsetup\u001b[38;5;241m.\u001b[39m_hardcoded_defaults)\n\u001b[0;32m    982\u001b[0m \u001b[38;5;66;03m# Normally, the default matplotlibrc file contains *no* entry for backend (the\u001b[39;00m\n\u001b[0;32m    983\u001b[0m \u001b[38;5;66;03m# corresponding line starts with ##, not #; we fill on _auto_backend_sentinel\u001b[39;00m\n\u001b[0;32m    984\u001b[0m \u001b[38;5;66;03m# in that case.  However, packagers can set a different default backend\u001b[39;00m\n\u001b[0;32m    985\u001b[0m \u001b[38;5;66;03m# (resulting in a normal `#backend: foo` line) in which case we should *not*\u001b[39;00m\n\u001b[0;32m    986\u001b[0m \u001b[38;5;66;03m# fill in _auto_backend_sentinel.\u001b[39;00m\n",
      "File \u001b[1;32mc:\\Users\\schaeffe\\.conda\\envs\\e20009_spyral_v11\\Lib\\site-packages\\matplotlib\\cbook.py:545\u001b[0m, in \u001b[0;36m_get_data_path\u001b[1;34m(*args)\u001b[0m\n\u001b[0;32m    539\u001b[0m \u001b[38;5;28;01mdef\u001b[39;00m\u001b[38;5;250m \u001b[39m\u001b[38;5;21m_get_data_path\u001b[39m(\u001b[38;5;241m*\u001b[39margs):\n\u001b[0;32m    540\u001b[0m \u001b[38;5;250m    \u001b[39m\u001b[38;5;124;03m\"\"\"\u001b[39;00m\n\u001b[0;32m    541\u001b[0m \u001b[38;5;124;03m    Return the `pathlib.Path` to a resource file provided by Matplotlib.\u001b[39;00m\n\u001b[0;32m    542\u001b[0m \n\u001b[0;32m    543\u001b[0m \u001b[38;5;124;03m    ``*args`` specify a path relative to the base data path.\u001b[39;00m\n\u001b[0;32m    544\u001b[0m \u001b[38;5;124;03m    \"\"\"\u001b[39;00m\n\u001b[1;32m--> 545\u001b[0m     \u001b[38;5;28;01mreturn\u001b[39;00m Path(\u001b[43mmatplotlib\u001b[49m\u001b[38;5;241;43m.\u001b[39;49m\u001b[43mget_data_path\u001b[49m(), \u001b[38;5;241m*\u001b[39margs)\n",
      "\u001b[1;31mAttributeError\u001b[0m: module 'matplotlib' has no attribute 'get_data_path'"
     ]
    }
   ],
   "source": [
    "import matplotlib.pyplot as plt"
   ]
  },
  {
   "cell_type": "code",
   "execution_count": 11,
   "metadata": {},
   "outputs": [
    {
     "ename": "NameError",
     "evalue": "name 'plt' is not defined",
     "output_type": "error",
     "traceback": [
      "\u001b[1;31m---------------------------------------------------------------------------\u001b[0m",
      "\u001b[1;31mNameError\u001b[0m                                 Traceback (most recent call last)",
      "Cell \u001b[1;32mIn[11], line 3\u001b[0m\n\u001b[0;32m      1\u001b[0m total_events_ic \u001b[38;5;241m=\u001b[39m grammer\u001b[38;5;241m.\u001b[39mget_hist1d(\u001b[38;5;124m'\u001b[39m\u001b[38;5;124mtotal_events_ic\u001b[39m\u001b[38;5;124m'\u001b[39m)\n\u001b[1;32m----> 3\u001b[0m fig, ax \u001b[38;5;241m=\u001b[39m \u001b[43mplt\u001b[49m\u001b[38;5;241m.\u001b[39msubplots(\u001b[38;5;241m1\u001b[39m,\u001b[38;5;241m1\u001b[39m)\n\u001b[0;32m      4\u001b[0m ax\u001b[38;5;241m.\u001b[39mstairs(total_events_ic\u001b[38;5;241m.\u001b[39mcounts, edges\u001b[38;5;241m=\u001b[39mtotal_events_ic\u001b[38;5;241m.\u001b[39mbins, label\u001b[38;5;241m=\u001b[39m\u001b[38;5;124m\"\u001b[39m\u001b[38;5;124mSpectrum\u001b[39m\u001b[38;5;124m\"\u001b[39m)\n\u001b[0;32m      5\u001b[0m ax\u001b[38;5;241m.\u001b[39mset_title(\u001b[38;5;124m'\u001b[39m\u001b[38;5;124mIC Spectrum\u001b[39m\u001b[38;5;124m'\u001b[39m)\n",
      "\u001b[1;31mNameError\u001b[0m: name 'plt' is not defined"
     ]
    }
   ],
   "source": [
    "total_events_ic = grammer.get_hist1d('total_events_ic')\n",
    "\n",
    "fig, ax = plt.subplots(1,1)\n",
    "ax.stairs(total_events_ic.counts, edges=total_events_ic.bins, label=\"Spectrum\")\n",
    "ax.set_title('IC Spectrum')\n",
    "ax.set_xlabel('Amplitude (ADC units)')\n",
    "ax.set_ylabel(\"Counts\")\n",
    "ax.legend()\n",
    "fig.set_figheight(8.0)\n",
    "fig.set_figwidth(11.0)\n",
    "fig.tight_layout()"
   ]
  },
  {
   "cell_type": "code",
   "execution_count": null,
   "metadata": {},
   "outputs": [],
   "source": [
    "print(sum(total_events_ic.counts))"
   ]
  },
  {
   "cell_type": "code",
   "execution_count": null,
   "metadata": {},
   "outputs": [],
   "source": []
  }
 ],
 "metadata": {
  "kernelspec": {
   "display_name": "e20009_spyral_v11",
   "language": "python",
   "name": "python3"
  },
  "language_info": {
   "codemirror_mode": {
    "name": "ipython",
    "version": 3
   },
   "file_extension": ".py",
   "mimetype": "text/x-python",
   "name": "python",
   "nbconvert_exporter": "python",
   "pygments_lexer": "ipython3",
   "version": "3.12.9"
  }
 },
 "nbformat": 4,
 "nbformat_minor": 2
}
