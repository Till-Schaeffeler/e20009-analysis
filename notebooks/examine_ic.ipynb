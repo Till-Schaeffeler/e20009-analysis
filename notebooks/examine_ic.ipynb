{
 "cells": [
  {
   "cell_type": "code",
   "execution_count": 21,
   "metadata": {},
   "outputs": [],
   "source": [
    "## Create IC Sprectrum of all events ##\n",
    "## Each pointcloud has an attribute called ic_amplitude ##\n",
    "## The IC Spectrum is a histogram of this value ##"
   ]
  },
  {
   "cell_type": "code",
   "execution_count": 37,
   "metadata": {},
   "outputs": [],
   "source": [
    "from spyral.core.run_stacks import form_run_string\n",
    "from spyral_utils.plot import Histogrammer ## Custom histogramming tool \n",
    "\n",
    "from pathlib import Path\n",
    "import h5py\n",
    "import polars as pl\n",
    "import matplotlib.pyplot as plt\n",
    "\n",
    "%matplotlib widget"
   ]
  },
  {
   "cell_type": "code",
   "execution_count": 23,
   "metadata": {},
   "outputs": [],
   "source": [
    "path_to_converted = Path(\"c:\\\\Users\\\\schaeffe\\\\Desktop\\\\e20009_dalitz_output\\\\Pointcloud\") ## Follow naming convetion of spyral-v16 \n",
    "\n",
    "start_run = 108\n",
    "end_run = 320"
   ]
  },
  {
   "cell_type": "code",
   "execution_count": 24,
   "metadata": {},
   "outputs": [
    {
     "name": "stdout",
     "output_type": "stream",
     "text": [
      "Processing Run Number: 108\n",
      "Events range from 218 to 22307\n",
      "Processing Run Number: 109\n",
      "Events range from 22308 to 46451\n"
     ]
    },
    {
     "ename": "KeyboardInterrupt",
     "evalue": "",
     "output_type": "error",
     "traceback": [
      "\u001b[1;31m---------------------------------------------------------------------------\u001b[0m",
      "\u001b[1;31mKeyboardInterrupt\u001b[0m                         Traceback (most recent call last)",
      "Cell \u001b[1;32mIn[24], line 41\u001b[0m\n\u001b[0;32m     35\u001b[0m pc_dataset \u001b[38;5;241m=\u001b[39m cloud_group[event_key]\n\u001b[0;32m     37\u001b[0m \u001b[38;5;66;03m# Extract the relevant attributes\u001b[39;00m\n\u001b[0;32m     38\u001b[0m event_data \u001b[38;5;241m=\u001b[39m {\n\u001b[0;32m     39\u001b[0m     \u001b[38;5;124m\"\u001b[39m\u001b[38;5;124mrun_number\u001b[39m\u001b[38;5;124m\"\u001b[39m: run_number,\n\u001b[0;32m     40\u001b[0m     \u001b[38;5;124m\"\u001b[39m\u001b[38;5;124mevent_number\u001b[39m\u001b[38;5;124m\"\u001b[39m: event_number,\n\u001b[1;32m---> 41\u001b[0m     \u001b[38;5;124m\"\u001b[39m\u001b[38;5;124morig_run\u001b[39m\u001b[38;5;124m\"\u001b[39m: \u001b[43mpc_dataset\u001b[49m\u001b[38;5;241;43m.\u001b[39;49m\u001b[43mattrs\u001b[49m\u001b[38;5;241m.\u001b[39mget(\u001b[38;5;124m\"\u001b[39m\u001b[38;5;124morig_run\u001b[39m\u001b[38;5;124m\"\u001b[39m, \u001b[38;5;28;01mNone\u001b[39;00m),\n\u001b[0;32m     42\u001b[0m     \u001b[38;5;124m\"\u001b[39m\u001b[38;5;124morig_event\u001b[39m\u001b[38;5;124m\"\u001b[39m: pc_dataset\u001b[38;5;241m.\u001b[39mattrs\u001b[38;5;241m.\u001b[39mget(\u001b[38;5;124m\"\u001b[39m\u001b[38;5;124morig_event\u001b[39m\u001b[38;5;124m\"\u001b[39m, \u001b[38;5;28;01mNone\u001b[39;00m),\n\u001b[0;32m     43\u001b[0m     \u001b[38;5;124m\"\u001b[39m\u001b[38;5;124mic_amplitude\u001b[39m\u001b[38;5;124m\"\u001b[39m: pc_dataset\u001b[38;5;241m.\u001b[39mattrs\u001b[38;5;241m.\u001b[39mget(\u001b[38;5;124m\"\u001b[39m\u001b[38;5;124mic_amplitude\u001b[39m\u001b[38;5;124m\"\u001b[39m, \u001b[38;5;28;01mNone\u001b[39;00m),\n\u001b[0;32m     44\u001b[0m     \u001b[38;5;124m\"\u001b[39m\u001b[38;5;124mic_centroid\u001b[39m\u001b[38;5;124m\"\u001b[39m: pc_dataset\u001b[38;5;241m.\u001b[39mattrs\u001b[38;5;241m.\u001b[39mget(\u001b[38;5;124m\"\u001b[39m\u001b[38;5;124mic_centroid\u001b[39m\u001b[38;5;124m\"\u001b[39m, \u001b[38;5;28;01mNone\u001b[39;00m),\n\u001b[0;32m     45\u001b[0m     \u001b[38;5;124m\"\u001b[39m\u001b[38;5;124mic_integral\u001b[39m\u001b[38;5;124m\"\u001b[39m: pc_dataset\u001b[38;5;241m.\u001b[39mattrs\u001b[38;5;241m.\u001b[39mget(\u001b[38;5;124m\"\u001b[39m\u001b[38;5;124mic_integral\u001b[39m\u001b[38;5;124m\"\u001b[39m, \u001b[38;5;28;01mNone\u001b[39;00m),\n\u001b[0;32m     46\u001b[0m     \u001b[38;5;124m\"\u001b[39m\u001b[38;5;124mic_multiplicity\u001b[39m\u001b[38;5;124m\"\u001b[39m: pc_dataset\u001b[38;5;241m.\u001b[39mattrs\u001b[38;5;241m.\u001b[39mget(\u001b[38;5;124m\"\u001b[39m\u001b[38;5;124mic_multiplicity\u001b[39m\u001b[38;5;124m\"\u001b[39m, \u001b[38;5;28;01mNone\u001b[39;00m),\n\u001b[0;32m     47\u001b[0m     \u001b[38;5;124m\"\u001b[39m\u001b[38;5;124mic_sca_centroid\u001b[39m\u001b[38;5;124m\"\u001b[39m: pc_dataset\u001b[38;5;241m.\u001b[39mattrs\u001b[38;5;241m.\u001b[39mget(\u001b[38;5;124m\"\u001b[39m\u001b[38;5;124mic_sca_centroid\u001b[39m\u001b[38;5;124m\"\u001b[39m, \u001b[38;5;28;01mNone\u001b[39;00m),\n\u001b[0;32m     48\u001b[0m     \u001b[38;5;124m\"\u001b[39m\u001b[38;5;124mic_sca_multiplicity\u001b[39m\u001b[38;5;124m\"\u001b[39m: pc_dataset\u001b[38;5;241m.\u001b[39mattrs\u001b[38;5;241m.\u001b[39mget(\u001b[38;5;124m\"\u001b[39m\u001b[38;5;124mic_sca_multiplicity\u001b[39m\u001b[38;5;124m\"\u001b[39m, \u001b[38;5;28;01mNone\u001b[39;00m)\n\u001b[0;32m     49\u001b[0m }\n\u001b[0;32m     51\u001b[0m \u001b[38;5;66;03m# Append the data to the list\u001b[39;00m\n\u001b[0;32m     52\u001b[0m event_data_list\u001b[38;5;241m.\u001b[39mappend(event_data)\n",
      "File \u001b[1;32mc:\\Users\\schaeffe\\.conda\\envs\\zach_spyral-env\\Lib\\site-packages\\h5py\\_hl\\base.py:329\u001b[0m, in \u001b[0;36mHLObject.attrs\u001b[1;34m(self)\u001b[0m\n\u001b[0;32m    318\u001b[0m \u001b[38;5;250m    \u001b[39m\u001b[38;5;124;03m\"\"\"Create a region reference (Datasets only).\u001b[39;00m\n\u001b[0;32m    319\u001b[0m \n\u001b[0;32m    320\u001b[0m \u001b[38;5;124;03m    The syntax is regionref[<slices>]. For example, dset.regionref[...]\u001b[39;00m\n\u001b[1;32m   (...)\u001b[0m\n\u001b[0;32m    325\u001b[0m \u001b[38;5;124;03m    .selection property).\u001b[39;00m\n\u001b[0;32m    326\u001b[0m \u001b[38;5;124;03m    \"\"\"\u001b[39;00m\n\u001b[0;32m    327\u001b[0m     \u001b[38;5;28;01mreturn\u001b[39;00m _RegionProxy(\u001b[38;5;28mself\u001b[39m)\n\u001b[1;32m--> 329\u001b[0m \u001b[38;5;129m@property\u001b[39m\n\u001b[0;32m    330\u001b[0m \u001b[38;5;28;01mdef\u001b[39;00m \u001b[38;5;21mattrs\u001b[39m(\u001b[38;5;28mself\u001b[39m):\n\u001b[0;32m    331\u001b[0m \u001b[38;5;250m    \u001b[39m\u001b[38;5;124;03m\"\"\" Attributes attached to this object \"\"\"\u001b[39;00m\n\u001b[0;32m    332\u001b[0m     \u001b[38;5;28;01mfrom\u001b[39;00m \u001b[38;5;21;01m.\u001b[39;00m \u001b[38;5;28;01mimport\u001b[39;00m attrs\n",
      "\u001b[1;31mKeyboardInterrupt\u001b[0m: "
     ]
    }
   ],
   "source": [
    "# Create a list to store the event data\n",
    "event_data_list = []\n",
    "total_events = 0  # Counter to keep track of the total number of events\n",
    "\n",
    "# Iterate over the runs\n",
    "for run_number in range(start_run, end_run):  \n",
    "    print(f\"Processing Run Number: {run_number}\")\n",
    "\n",
    "    converted_file_path = path_to_converted / f\"{form_run_string(run_number)}.h5\" \n",
    "\n",
    "    # Ensure the converted file exists\n",
    "    if not converted_file_path.exists():\n",
    "        print(f\"Converted file not found: {converted_file_path}. Skipping ...\")\n",
    "        continue\n",
    "\n",
    "    with h5py.File(converted_file_path, 'r') as converted_file:\n",
    "        cloud_group: h5py.Group = converted_file.get('cloud')\n",
    "        if cloud_group is None:\n",
    "            print(\"No 'cloud' group found. Skipping ...\")\n",
    "            continue\n",
    "\n",
    "        # Ensure attributes exist before accessing them\n",
    "        if \"min_event\" not in cloud_group.attrs or \"max_event\" not in cloud_group.attrs:\n",
    "            print(\"Missing min_event or max_event attributes. Skipping ...\")\n",
    "            continue\n",
    "        \n",
    "        min_event = cloud_group.attrs['min_event']\n",
    "        max_event = cloud_group.attrs['max_event']\n",
    "        print(f\"Events range from {min_event} to {max_event}\")\n",
    "\n",
    "        # Iterate through events\n",
    "        for event_number in range(min_event, max_event + 1):\n",
    "            event_key = f'cloud_{event_number}'\n",
    "            if event_key in cloud_group:\n",
    "                pc_dataset = cloud_group[event_key]\n",
    "                \n",
    "                # Extract the relevant attributes\n",
    "                event_data = {\n",
    "                    \"run_number\": run_number,\n",
    "                    \"event_number\": event_number,\n",
    "                    \"orig_run\": pc_dataset.attrs.get(\"orig_run\", None),\n",
    "                    \"orig_event\": pc_dataset.attrs.get(\"orig_event\", None),\n",
    "                    \"ic_amplitude\": pc_dataset.attrs.get(\"ic_amplitude\", None),\n",
    "                    \"ic_centroid\": pc_dataset.attrs.get(\"ic_centroid\", None),\n",
    "                    \"ic_integral\": pc_dataset.attrs.get(\"ic_integral\", None),\n",
    "                    \"ic_multiplicity\": pc_dataset.attrs.get(\"ic_multiplicity\", None),\n",
    "                    \"ic_sca_centroid\": pc_dataset.attrs.get(\"ic_sca_centroid\", None),\n",
    "                    \"ic_sca_multiplicity\": pc_dataset.attrs.get(\"ic_sca_multiplicity\", None)\n",
    "                }\n",
    "\n",
    "                # Append the data to the list\n",
    "                event_data_list.append(event_data)\n",
    "                total_events += 1  # Increment the event counter\n",
    "\n",
    "# Convert the list to a pandas DataFrame (if you prefer to work with pandas)\n",
    "df = pl.DataFrame(event_data_list)\n",
    "print(f\"Total events processed: {total_events}\")\n",
    "print(df)\n"
   ]
  },
  {
   "cell_type": "code",
   "execution_count": null,
   "metadata": {},
   "outputs": [
    {
     "name": "stdout",
     "output_type": "stream",
     "text": [
      "shape: (4_801_272, 8)\n",
      "┌──────────┬────────────┬────────────┬────────────┬────────────┬───────────┬───────────┬───────────┐\n",
      "│ orig_run ┆ orig_event ┆ ic_amplitu ┆ ic_centroi ┆ ic_integra ┆ ic_multip ┆ ic_sca_ce ┆ ic_sca_mu │\n",
      "│ ---      ┆ ---        ┆ de         ┆ d          ┆ l          ┆ licity    ┆ ntroid    ┆ ltiplicit │\n",
      "│ i64      ┆ i64        ┆ ---        ┆ ---        ┆ ---        ┆ ---       ┆ ---       ┆ y         │\n",
      "│          ┆            ┆ f64        ┆ f64        ┆ f64        ┆ f64       ┆ f64       ┆ ---       │\n",
      "│          ┆            ┆            ┆            ┆            ┆           ┆           ┆ f64       │\n",
      "╞══════════╪════════════╪════════════╪════════════╪════════════╪═══════════╪═══════════╪═══════════╡\n",
      "│ 108      ┆ 218        ┆ 1025.0     ┆ 69.200364  ┆ 6363.0     ┆ 1.0       ┆ 70.71429  ┆ 2.0       │\n",
      "│ 108      ┆ 219        ┆ 768.0      ┆ 68.002183  ┆ 4069.0     ┆ 1.0       ┆ 70.779918 ┆ 1.0       │\n",
      "│ 108      ┆ 220        ┆ 862.0      ┆ 68.064526  ┆ 3232.0     ┆ 2.0       ┆ 69.792201 ┆ 2.0       │\n",
      "│ 108      ┆ 221        ┆ 1839.0     ┆ 67.718614  ┆ 10936.0    ┆ 1.0       ┆ 70.609223 ┆ 1.0       │\n",
      "│ 108      ┆ 222        ┆ 665.0      ┆ 68.951233  ┆ 3594.0     ┆ 1.0       ┆ 70.831117 ┆ 1.0       │\n",
      "│ …        ┆ …          ┆ …          ┆ …          ┆ …          ┆ …         ┆ …         ┆ …         │\n",
      "│ 319      ┆ 1506455    ┆ 978.0      ┆ 67.866801  ┆ 5782.0     ┆ 1.0       ┆ 70.319178 ┆ 1.0       │\n",
      "│ 319      ┆ 1506456    ┆ 900.0      ┆ 67.069474  ┆ 5076.0     ┆ 3.0       ┆ 70.679896 ┆ 3.0       │\n",
      "│ 319      ┆ 1506457    ┆ 619.0      ┆ 68.45866   ┆ 3712.0     ┆ 3.0       ┆ 71.611448 ┆ 3.0       │\n",
      "│ 319      ┆ 1506458    ┆ 781.0      ┆ 68.788914  ┆ 4002.0     ┆ 2.0       ┆ 70.177752 ┆ 2.0       │\n",
      "│ 319      ┆ 1506459    ┆ 1222.0     ┆ 67.532906  ┆ 5522.0     ┆ 3.0       ┆ 70.044388 ┆ 3.0       │\n",
      "└──────────┴────────────┴────────────┴────────────┴────────────┴───────────┴───────────┴───────────┘\n"
     ]
    }
   ],
   "source": [
    "# columns_to_remove = [\"run_number\", \"event_number\"]\n",
    "# df = df.drop(columns_to_remove)\n",
    "print(df)"
   ]
  },
  {
   "cell_type": "code",
   "execution_count": null,
   "metadata": {},
   "outputs": [
    {
     "name": "stdout",
     "output_type": "stream",
     "text": [
      "shape: (4_801_272, 8)\n",
      "┌──────────┬────────────┬────────────┬────────────┬────────────┬───────────┬───────────┬───────────┐\n",
      "│ orig_run ┆ orig_event ┆ ic_amplitu ┆ ic_centroi ┆ ic_integra ┆ ic_multip ┆ ic_sca_ce ┆ ic_sca_mu │\n",
      "│ ---      ┆ ---        ┆ de         ┆ d          ┆ l          ┆ licity    ┆ ntroid    ┆ ltiplicit │\n",
      "│ i64      ┆ i64        ┆ ---        ┆ ---        ┆ ---        ┆ ---       ┆ ---       ┆ y         │\n",
      "│          ┆            ┆ f64        ┆ f64        ┆ f64        ┆ f64       ┆ f64       ┆ ---       │\n",
      "│          ┆            ┆            ┆            ┆            ┆           ┆           ┆ f64       │\n",
      "╞══════════╪════════════╪════════════╪════════════╪════════════╪═══════════╪═══════════╪═══════════╡\n",
      "│ 108      ┆ 218        ┆ 1025.0     ┆ 69.200364  ┆ 6363.0     ┆ 1.0       ┆ 70.71429  ┆ 2.0       │\n",
      "│ 108      ┆ 219        ┆ 768.0      ┆ 68.002183  ┆ 4069.0     ┆ 1.0       ┆ 70.779918 ┆ 1.0       │\n",
      "│ 108      ┆ 220        ┆ 862.0      ┆ 68.064526  ┆ 3232.0     ┆ 2.0       ┆ 69.792201 ┆ 2.0       │\n",
      "│ 108      ┆ 221        ┆ 1839.0     ┆ 67.718614  ┆ 10936.0    ┆ 1.0       ┆ 70.609223 ┆ 1.0       │\n",
      "│ 108      ┆ 222        ┆ 665.0      ┆ 68.951233  ┆ 3594.0     ┆ 1.0       ┆ 70.831117 ┆ 1.0       │\n",
      "│ …        ┆ …          ┆ …          ┆ …          ┆ …          ┆ …         ┆ …         ┆ …         │\n",
      "│ 319      ┆ 1506455    ┆ 978.0      ┆ 67.866801  ┆ 5782.0     ┆ 1.0       ┆ 70.319178 ┆ 1.0       │\n",
      "│ 319      ┆ 1506456    ┆ 900.0      ┆ 67.069474  ┆ 5076.0     ┆ 3.0       ┆ 70.679896 ┆ 3.0       │\n",
      "│ 319      ┆ 1506457    ┆ 619.0      ┆ 68.45866   ┆ 3712.0     ┆ 3.0       ┆ 71.611448 ┆ 3.0       │\n",
      "│ 319      ┆ 1506458    ┆ 781.0      ┆ 68.788914  ┆ 4002.0     ┆ 2.0       ┆ 70.177752 ┆ 2.0       │\n",
      "│ 319      ┆ 1506459    ┆ 1222.0     ┆ 67.532906  ┆ 5522.0     ┆ 3.0       ┆ 70.044388 ┆ 3.0       │\n",
      "└──────────┴────────────┴────────────┴────────────┴────────────┴───────────┴───────────┴───────────┘\n"
     ]
    }
   ],
   "source": [
    "print(df)"
   ]
  },
  {
   "cell_type": "code",
   "execution_count": null,
   "metadata": {},
   "outputs": [
    {
     "name": "stdout",
     "output_type": "stream",
     "text": [
      "Total events processed: 4801272\n",
      "Data saved to: c:\\Users\\schaeffe\\Desktop\\e20009_dalitz_output\\total_event_data.parquet\n"
     ]
    }
   ],
   "source": [
    "# output_parquet_path = Path(\"c:\\\\Users\\\\schaeffe\\\\Desktop\\\\e20009_dalitz_output\\\\total_event_data.parquet\")\n",
    "\n",
    "# # Convert to LazyFrame and collect\n",
    "# df = pl.LazyFrame(event_data_list).collect()\n",
    "\n",
    "# # Save to a Parquet file\n",
    "# df.write_parquet(output_parquet_path)\n",
    "\n",
    "# print(f\"Total events processed: {total_events}\")\n",
    "# print(f\"Data saved to: {output_parquet_path}\")"
   ]
  },
  {
   "cell_type": "code",
   "execution_count": null,
   "metadata": {},
   "outputs": [
    {
     "name": "stdout",
     "output_type": "stream",
     "text": [
      "Saved 22090 events to c:\\Users\\schaeffe\\Desktop\\e20009_dalitz_output\\EventData\\run_0108.parquet\n",
      "Saved 24144 events to c:\\Users\\schaeffe\\Desktop\\e20009_dalitz_output\\EventData\\run_0109.parquet\n",
      "Saved 14456 events to c:\\Users\\schaeffe\\Desktop\\e20009_dalitz_output\\EventData\\run_0110.parquet\n",
      "Saved 46804 events to c:\\Users\\schaeffe\\Desktop\\e20009_dalitz_output\\EventData\\run_0112.parquet\n",
      "Saved 63887 events to c:\\Users\\schaeffe\\Desktop\\e20009_dalitz_output\\EventData\\run_0113.parquet\n",
      "Saved 53173 events to c:\\Users\\schaeffe\\Desktop\\e20009_dalitz_output\\EventData\\run_0114.parquet\n",
      "Saved 48377 events to c:\\Users\\schaeffe\\Desktop\\e20009_dalitz_output\\EventData\\run_0115.parquet\n",
      "Saved 19145 events to c:\\Users\\schaeffe\\Desktop\\e20009_dalitz_output\\EventData\\run_0116.parquet\n",
      "Saved 31204 events to c:\\Users\\schaeffe\\Desktop\\e20009_dalitz_output\\EventData\\run_0117.parquet\n",
      "Saved 28128 events to c:\\Users\\schaeffe\\Desktop\\e20009_dalitz_output\\EventData\\run_0118.parquet\n",
      "Saved 12394 events to c:\\Users\\schaeffe\\Desktop\\e20009_dalitz_output\\EventData\\run_0119.parquet\n",
      "Saved 67572 events to c:\\Users\\schaeffe\\Desktop\\e20009_dalitz_output\\EventData\\run_0120.parquet\n",
      "Saved 68745 events to c:\\Users\\schaeffe\\Desktop\\e20009_dalitz_output\\EventData\\run_0121.parquet\n",
      "Saved 62863 events to c:\\Users\\schaeffe\\Desktop\\e20009_dalitz_output\\EventData\\run_0122.parquet\n",
      "Saved 59543 events to c:\\Users\\schaeffe\\Desktop\\e20009_dalitz_output\\EventData\\run_0123.parquet\n",
      "Saved 50429 events to c:\\Users\\schaeffe\\Desktop\\e20009_dalitz_output\\EventData\\run_0124.parquet\n",
      "Saved 65641 events to c:\\Users\\schaeffe\\Desktop\\e20009_dalitz_output\\EventData\\run_0125.parquet\n",
      "Saved 67190 events to c:\\Users\\schaeffe\\Desktop\\e20009_dalitz_output\\EventData\\run_0126.parquet\n",
      "Saved 58890 events to c:\\Users\\schaeffe\\Desktop\\e20009_dalitz_output\\EventData\\run_0181.parquet\n",
      "Saved 74480 events to c:\\Users\\schaeffe\\Desktop\\e20009_dalitz_output\\EventData\\run_0182.parquet\n",
      "Saved 73317 events to c:\\Users\\schaeffe\\Desktop\\e20009_dalitz_output\\EventData\\run_0183.parquet\n",
      "Saved 54971 events to c:\\Users\\schaeffe\\Desktop\\e20009_dalitz_output\\EventData\\run_0184.parquet\n",
      "Saved 24467 events to c:\\Users\\schaeffe\\Desktop\\e20009_dalitz_output\\EventData\\run_0185.parquet\n",
      "Saved 107925 events to c:\\Users\\schaeffe\\Desktop\\e20009_dalitz_output\\EventData\\run_0207.parquet\n",
      "Saved 75350 events to c:\\Users\\schaeffe\\Desktop\\e20009_dalitz_output\\EventData\\run_0208.parquet\n",
      "Saved 58584 events to c:\\Users\\schaeffe\\Desktop\\e20009_dalitz_output\\EventData\\run_0209.parquet\n",
      "Saved 67430 events to c:\\Users\\schaeffe\\Desktop\\e20009_dalitz_output\\EventData\\run_0210.parquet\n",
      "Saved 35978 events to c:\\Users\\schaeffe\\Desktop\\e20009_dalitz_output\\EventData\\run_0211.parquet\n",
      "Saved 75947 events to c:\\Users\\schaeffe\\Desktop\\e20009_dalitz_output\\EventData\\run_0249.parquet\n",
      "Saved 111399 events to c:\\Users\\schaeffe\\Desktop\\e20009_dalitz_output\\EventData\\run_0250.parquet\n",
      "Saved 114111 events to c:\\Users\\schaeffe\\Desktop\\e20009_dalitz_output\\EventData\\run_0251.parquet\n",
      "Saved 96791 events to c:\\Users\\schaeffe\\Desktop\\e20009_dalitz_output\\EventData\\run_0252.parquet\n",
      "Saved 89493 events to c:\\Users\\schaeffe\\Desktop\\e20009_dalitz_output\\EventData\\run_0253.parquet\n",
      "Saved 85860 events to c:\\Users\\schaeffe\\Desktop\\e20009_dalitz_output\\EventData\\run_0255.parquet\n",
      "Saved 52486 events to c:\\Users\\schaeffe\\Desktop\\e20009_dalitz_output\\EventData\\run_0256.parquet\n",
      "Saved 76610 events to c:\\Users\\schaeffe\\Desktop\\e20009_dalitz_output\\EventData\\run_0259.parquet\n",
      "Saved 84818 events to c:\\Users\\schaeffe\\Desktop\\e20009_dalitz_output\\EventData\\run_0260.parquet\n",
      "Saved 73090 events to c:\\Users\\schaeffe\\Desktop\\e20009_dalitz_output\\EventData\\run_0261.parquet\n",
      "Saved 62816 events to c:\\Users\\schaeffe\\Desktop\\e20009_dalitz_output\\EventData\\run_0262.parquet\n",
      "Saved 82194 events to c:\\Users\\schaeffe\\Desktop\\e20009_dalitz_output\\EventData\\run_0263.parquet\n",
      "Saved 67870 events to c:\\Users\\schaeffe\\Desktop\\e20009_dalitz_output\\EventData\\run_0264.parquet\n",
      "Saved 23809 events to c:\\Users\\schaeffe\\Desktop\\e20009_dalitz_output\\EventData\\run_0265.parquet\n",
      "Saved 51574 events to c:\\Users\\schaeffe\\Desktop\\e20009_dalitz_output\\EventData\\run_0267.parquet\n",
      "Saved 13247 events to c:\\Users\\schaeffe\\Desktop\\e20009_dalitz_output\\EventData\\run_0268.parquet\n",
      "Saved 53125 events to c:\\Users\\schaeffe\\Desktop\\e20009_dalitz_output\\EventData\\run_0269.parquet\n",
      "Saved 52104 events to c:\\Users\\schaeffe\\Desktop\\e20009_dalitz_output\\EventData\\run_0270.parquet\n",
      "Saved 52516 events to c:\\Users\\schaeffe\\Desktop\\e20009_dalitz_output\\EventData\\run_0271.parquet\n",
      "Saved 62163 events to c:\\Users\\schaeffe\\Desktop\\e20009_dalitz_output\\EventData\\run_0272.parquet\n",
      "Saved 73967 events to c:\\Users\\schaeffe\\Desktop\\e20009_dalitz_output\\EventData\\run_0273.parquet\n",
      "Saved 86909 events to c:\\Users\\schaeffe\\Desktop\\e20009_dalitz_output\\EventData\\run_0274.parquet\n",
      "Saved 89675 events to c:\\Users\\schaeffe\\Desktop\\e20009_dalitz_output\\EventData\\run_0275.parquet\n",
      "Saved 68798 events to c:\\Users\\schaeffe\\Desktop\\e20009_dalitz_output\\EventData\\run_0276.parquet\n",
      "Saved 113008 events to c:\\Users\\schaeffe\\Desktop\\e20009_dalitz_output\\EventData\\run_0277.parquet\n",
      "Saved 112557 events to c:\\Users\\schaeffe\\Desktop\\e20009_dalitz_output\\EventData\\run_0278.parquet\n",
      "Saved 95032 events to c:\\Users\\schaeffe\\Desktop\\e20009_dalitz_output\\EventData\\run_0279.parquet\n",
      "Saved 51523 events to c:\\Users\\schaeffe\\Desktop\\e20009_dalitz_output\\EventData\\run_0280.parquet\n",
      "Saved 8606 events to c:\\Users\\schaeffe\\Desktop\\e20009_dalitz_output\\EventData\\run_0281.parquet\n",
      "Saved 56249 events to c:\\Users\\schaeffe\\Desktop\\e20009_dalitz_output\\EventData\\run_0286.parquet\n",
      "Saved 62280 events to c:\\Users\\schaeffe\\Desktop\\e20009_dalitz_output\\EventData\\run_0288.parquet\n",
      "Saved 59527 events to c:\\Users\\schaeffe\\Desktop\\e20009_dalitz_output\\EventData\\run_0289.parquet\n",
      "Saved 42270 events to c:\\Users\\schaeffe\\Desktop\\e20009_dalitz_output\\EventData\\run_0290.parquet\n",
      "Saved 56911 events to c:\\Users\\schaeffe\\Desktop\\e20009_dalitz_output\\EventData\\run_0291.parquet\n",
      "Saved 51762 events to c:\\Users\\schaeffe\\Desktop\\e20009_dalitz_output\\EventData\\run_0292.parquet\n",
      "Saved 47016 events to c:\\Users\\schaeffe\\Desktop\\e20009_dalitz_output\\EventData\\run_0293.parquet\n",
      "Saved 34277 events to c:\\Users\\schaeffe\\Desktop\\e20009_dalitz_output\\EventData\\run_0294.parquet\n",
      "Saved 44351 events to c:\\Users\\schaeffe\\Desktop\\e20009_dalitz_output\\EventData\\run_0295.parquet\n",
      "Saved 56499 events to c:\\Users\\schaeffe\\Desktop\\e20009_dalitz_output\\EventData\\run_0296.parquet\n",
      "Saved 52131 events to c:\\Users\\schaeffe\\Desktop\\e20009_dalitz_output\\EventData\\run_0297.parquet\n",
      "Saved 36262 events to c:\\Users\\schaeffe\\Desktop\\e20009_dalitz_output\\EventData\\run_0298.parquet\n",
      "Saved 43567 events to c:\\Users\\schaeffe\\Desktop\\e20009_dalitz_output\\EventData\\run_0299.parquet\n",
      "Saved 36346 events to c:\\Users\\schaeffe\\Desktop\\e20009_dalitz_output\\EventData\\run_0301.parquet\n",
      "Saved 37019 events to c:\\Users\\schaeffe\\Desktop\\e20009_dalitz_output\\EventData\\run_0302.parquet\n",
      "Saved 36001 events to c:\\Users\\schaeffe\\Desktop\\e20009_dalitz_output\\EventData\\run_0303.parquet\n",
      "Saved 35814 events to c:\\Users\\schaeffe\\Desktop\\e20009_dalitz_output\\EventData\\run_0304.parquet\n",
      "Saved 47462 events to c:\\Users\\schaeffe\\Desktop\\e20009_dalitz_output\\EventData\\run_0306.parquet\n",
      "Saved 50371 events to c:\\Users\\schaeffe\\Desktop\\e20009_dalitz_output\\EventData\\run_0307.parquet\n",
      "Saved 43744 events to c:\\Users\\schaeffe\\Desktop\\e20009_dalitz_output\\EventData\\run_0308.parquet\n",
      "Saved 37392 events to c:\\Users\\schaeffe\\Desktop\\e20009_dalitz_output\\EventData\\run_0310.parquet\n",
      "Saved 35443 events to c:\\Users\\schaeffe\\Desktop\\e20009_dalitz_output\\EventData\\run_0311.parquet\n",
      "Saved 36367 events to c:\\Users\\schaeffe\\Desktop\\e20009_dalitz_output\\EventData\\run_0312.parquet\n",
      "Saved 33607 events to c:\\Users\\schaeffe\\Desktop\\e20009_dalitz_output\\EventData\\run_0313.parquet\n",
      "Saved 42383 events to c:\\Users\\schaeffe\\Desktop\\e20009_dalitz_output\\EventData\\run_0315.parquet\n",
      "Saved 42485 events to c:\\Users\\schaeffe\\Desktop\\e20009_dalitz_output\\EventData\\run_0316.parquet\n",
      "Saved 44380 events to c:\\Users\\schaeffe\\Desktop\\e20009_dalitz_output\\EventData\\run_0317.parquet\n",
      "Saved 40966 events to c:\\Users\\schaeffe\\Desktop\\e20009_dalitz_output\\EventData\\run_0318.parquet\n",
      "Saved 39115 events to c:\\Users\\schaeffe\\Desktop\\e20009_dalitz_output\\EventData\\run_0319.parquet\n",
      "Splitting complete.\n"
     ]
    }
   ],
   "source": [
    "big_parquet_path = Path(\"c:\\\\Users\\\\schaeffe\\\\Desktop\\\\e20009_dalitz_output\\\\total_event_data.parquet\")\n",
    "output_dir = Path(\"c:\\\\Users\\\\schaeffe\\\\Desktop\\\\e20009_dalitz_output\\\\EventData\")\n",
    "\n",
    "# Ensure output directory exists\n",
    "output_dir.mkdir(parents=True, exist_ok=True)\n",
    "\n",
    "# Load the big Parquet file\n",
    "df = pl.read_parquet(big_parquet_path)\n",
    "\n",
    "# Get unique runs\n",
    "unique_runs = df[\"orig_run\"].unique().to_list()\n",
    "\n",
    "# Split and save each run separately\n",
    "for run in unique_runs:\n",
    "    run_df = df.filter(df[\"orig_run\"] == run)\n",
    "    run_parquet_path = output_dir / f\"{form_run_string(run_number)}.parquet\"\n",
    "    run_df.write_parquet(run_parquet_path)\n",
    "    print(f\"Saved {len(run_df)} events to {run_parquet_path}\")\n",
    "\n",
    "print(\"Splitting complete.\")"
   ]
  },
  {
   "cell_type": "code",
   "execution_count": 26,
   "metadata": {},
   "outputs": [
    {
     "name": "stdout",
     "output_type": "stream",
     "text": [
      "Saved 37052 events to c:\\Users\\schaeffe\\Desktop\\e20009_dalitz_output\\EventData\\run_0320.parquet\n",
      "Processing complete.\n"
     ]
    }
   ],
   "source": [
    "# Define paths\n",
    "input_dir = Path(\"c:\\\\Users\\\\schaeffe\\\\Desktop\\\\e20009_dalitz_output\\\\Pointcloud\")\n",
    "output_dir = Path(\"c:\\\\Users\\\\schaeffe\\\\Desktop\\\\e20009_dalitz_output\\\\EventData\")\n",
    "output_dir.mkdir(parents=True, exist_ok=True)\n",
    "\n",
    "# Define runs to process\n",
    "start_run = 320\n",
    "end_run = 320  # Adjust as needed\n",
    "\n",
    "for run_number in range(start_run, end_run+1):\n",
    "    h5_file_path = input_dir / f\"{form_run_string(run_number)}.h5\" \n",
    "    \n",
    "    \n",
    "    if not h5_file_path.exists():\n",
    "        print(f\"File {h5_file_path} not found. Skipping...\")\n",
    "        continue\n",
    "\n",
    "    with h5py.File(h5_file_path, 'r') as h5_file:\n",
    "        cloud_group = h5_file.get('cloud')\n",
    "        if cloud_group is None:\n",
    "            print(f\"No 'cloud' group in {h5_file_path}. Skipping...\")\n",
    "            continue\n",
    "\n",
    "        min_event = cloud_group.attrs['min_event']\n",
    "        max_event = cloud_group.attrs['max_event']\n",
    "\n",
    "        event_data_list = []\n",
    "\n",
    "        for event_number in range(min_event, max_event + 1):\n",
    "            event_key = f'cloud_{event_number}'\n",
    "            if event_key in cloud_group:\n",
    "                dataset = cloud_group[event_key]\n",
    "\n",
    "                event_data = {\n",
    "                    \"orig_run\": run_number,\n",
    "                    \"orig_event\": event_number,\n",
    "                    \"ic_amplitude\": dataset.attrs.get(\"ic_amplitude\", 0),\n",
    "                    \"ic_centroid\": dataset.attrs.get(\"ic_centroid\", 0.0),\n",
    "                    \"ic_integral\": dataset.attrs.get(\"ic_integral\", 0),\n",
    "                    \"ic_multiplicity\": dataset.attrs.get(\"ic_multiplicity\", 0),\n",
    "                    \"ic_sca_centroid\": dataset.attrs.get(\"ic_sca_centroid\", 0.0),\n",
    "                    \"ic_sca_multiplicity\": dataset.attrs.get(\"ic_sca_multiplicity\", 0),\n",
    "                }\n",
    "                event_data_list.append(event_data)\n",
    "\n",
    "        if event_data_list:\n",
    "            df = pl.DataFrame(event_data_list)\n",
    "            parquet_file_path = output_dir / f\"{form_run_string(run_number)}.parquet\" \n",
    "            df.write_parquet(parquet_file_path)\n",
    "            print(f\"Saved {len(df)} events to {parquet_file_path}\")\n",
    "\n",
    "print(\"Processing complete.\")\n"
   ]
  },
  {
   "cell_type": "code",
   "execution_count": 43,
   "metadata": {},
   "outputs": [],
   "source": [
    "grammer = Histogrammer()\n",
    "\n",
    "grammer.add_hist1d('total_events_ic', 4095, (0.0, 4095.0))\n",
    "\n",
    "event_data_path = Path(\"c:\\\\Users\\\\schaeffe\\\\Desktop\\\\e20009_dalitz_output\\\\EventData\")\n",
    "\n",
    "start_run = 108\n",
    "end_run = 320  # Adjust as needed\n",
    "\n",
    "ic_min_val = 900\n",
    "ic_max_val = 1300\n",
    "\n",
    "for run in range(start_run, end_run+1):\n",
    "    df = None\n",
    "    try:\n",
    "        path = event_data_path / f\"{form_run_string(run)}.parquet\"\n",
    "        df = pl.read_parquet(path)\n",
    "    except Exception:\n",
    "        continue\n",
    "\n",
    "    # Apply appropriate analysis gates\n",
    "    df = df.filter((pl.col(\"ic_multiplicity\") == 1)\n",
    "                 & (pl.col(\"ic_sca_multiplicity\") == 1))\n",
    "    df = df.filter(\n",
    "        (abs(pl.col(\"ic_centroid\") - pl.col(\"ic_sca_centroid\")) <= 10)\n",
    "    )\n",
    "    df = df.filter((pl.col('ic_amplitude') > ic_min_val) & (pl.col('ic_amplitude') < ic_max_val))\n",
    "\n",
    "\n",
    "    ic_amp = df.select(pl.col(\"ic_amplitude\")).to_numpy().flatten()\n",
    "    # print(run)\n",
    "    # print(len(ic_amp))\n",
    "    grammer.fill_hist1d(\"total_events_ic\", ic_amp)"
   ]
  },
  {
   "cell_type": "code",
   "execution_count": 44,
   "metadata": {},
   "outputs": [
    {
     "name": "stdout",
     "output_type": "stream",
     "text": [
      "shape: (4_874, 8)\n",
      "┌──────────┬────────────┬────────────┬────────────┬────────────┬───────────┬───────────┬───────────┐\n",
      "│ orig_run ┆ orig_event ┆ ic_amplitu ┆ ic_centroi ┆ ic_integra ┆ ic_multip ┆ ic_sca_ce ┆ ic_sca_mu │\n",
      "│ ---      ┆ ---        ┆ de         ┆ d          ┆ l          ┆ licity    ┆ ntroid    ┆ ltiplicit │\n",
      "│ i64      ┆ i64        ┆ ---        ┆ ---        ┆ ---        ┆ ---       ┆ ---       ┆ y         │\n",
      "│          ┆            ┆ f64        ┆ f64        ┆ f64        ┆ f64       ┆ f64       ┆ ---       │\n",
      "│          ┆            ┆            ┆            ┆            ┆           ┆           ┆ i64       │\n",
      "╞══════════╪════════════╪════════════╪════════════╪════════════╪═══════════╪═══════════╪═══════════╡\n",
      "│ 320      ┆ 1506475    ┆ 1253.0     ┆ 67.886579  ┆ 6057.0     ┆ 1.0       ┆ 70.812739 ┆ 1         │\n",
      "│ 320      ┆ 1506482    ┆ 1156.0     ┆ 66.139245  ┆ 6164.0     ┆ 1.0       ┆ 69.256807 ┆ 1         │\n",
      "│ 320      ┆ 1506485    ┆ 1041.0     ┆ 67.177654  ┆ 5597.0     ┆ 1.0       ┆ 70.003629 ┆ 1         │\n",
      "│ 320      ┆ 1506494    ┆ 1188.0     ┆ 66.558     ┆ 6507.0     ┆ 1.0       ┆ 69.72148  ┆ 1         │\n",
      "│ 320      ┆ 1506504    ┆ 1101.0     ┆ 67.636383  ┆ 5576.0     ┆ 1.0       ┆ 70.328783 ┆ 1         │\n",
      "│ …        ┆ …          ┆ …          ┆ …          ┆ …          ┆ …         ┆ …         ┆ …         │\n",
      "│ 320      ┆ 1543466    ┆ 1022.0     ┆ 66.73981   ┆ 6087.0     ┆ 1.0       ┆ 69.347677 ┆ 1         │\n",
      "│ 320      ┆ 1543474    ┆ 1033.0     ┆ 67.027224  ┆ 5432.0     ┆ 1.0       ┆ 70.700649 ┆ 1         │\n",
      "│ 320      ┆ 1543476    ┆ 1099.0     ┆ 68.095938  ┆ 5077.0     ┆ 1.0       ┆ 70.683855 ┆ 1         │\n",
      "│ 320      ┆ 1543486    ┆ 1036.0     ┆ 67.768487  ┆ 5778.0     ┆ 1.0       ┆ 70.465225 ┆ 1         │\n",
      "│ 320      ┆ 1543498    ┆ 1014.0     ┆ 67.983333  ┆ 5345.0     ┆ 1.0       ┆ 70.53869  ┆ 1         │\n",
      "└──────────┴────────────┴────────────┴────────────┴────────────┴───────────┴───────────┴───────────┘\n"
     ]
    }
   ],
   "source": [
    "print(df)"
   ]
  },
  {
   "cell_type": "code",
   "execution_count": 45,
   "metadata": {},
   "outputs": [
    {
     "data": {
      "application/vnd.jupyter.widget-view+json": {
       "model_id": "f35cfeeb47a642e8b608398396206f99",
       "version_major": 2,
       "version_minor": 0
      },
      "image/png": "[encoded data removed]",
      "text/html": [
       "\n",
       "            <div style=\"display: inline-block;\">\n",
       "                <div class=\"jupyter-widgets widget-label\" style=\"text-align: center;\">\n",
       "                    Figure\n",
       "                </div>\n",
       "                <img src='data:image/png;base64,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' width=1100.0/>\n",
       "            </div>\n",
       "        "
      ],
      "text/plain": [
       "Canvas(toolbar=Toolbar(toolitems=[('Home', 'Reset original view', 'home', 'home'), ('Back', 'Back to previous …"
      ]
     },
     "metadata": {},
     "output_type": "display_data"
    }
   ],
   "source": [
    "total_events_ic = grammer.get_hist1d('total_events_ic')\n",
    "\n",
    "fig, ax = plt.subplots(1,1)\n",
    "ax.stairs(total_events_ic.counts, edges=total_events_ic.bins, label=\"Spectrum\")\n",
    "ax.set_title('IC Spectrum')\n",
    "ax.set_xlabel('Amplitude (ADC units)')\n",
    "ax.set_ylabel(\"Counts\")\n",
    "ax.legend()\n",
    "fig.set_figheight(8.0)\n",
    "fig.set_figwidth(11.0)\n",
    "fig.tight_layout()"
   ]
  },
  {
   "cell_type": "code",
   "execution_count": 46,
   "metadata": {},
   "outputs": [
    {
     "name": "stdout",
     "output_type": "stream",
     "text": [
      "461561\n"
     ]
    }
   ],
   "source": [
    "print(sum(total_events_ic.counts))"
   ]
  },
  {
   "cell_type": "code",
   "execution_count": null,
   "metadata": {},
   "outputs": [],
   "source": []
  }
 ],
 "metadata": {
  "kernelspec": {
   "display_name": "zach_spyral-env",
   "language": "python",
   "name": "python3"
  },
  "language_info": {
   "codemirror_mode": {
    "name": "ipython",
    "version": 3
   },
   "file_extension": ".py",
   "mimetype": "text/x-python",
   "name": "python",
   "nbconvert_exporter": "python",
   "pygments_lexer": "ipython3",
   "version": "3.12.7"
  }
 },
 "nbformat": 4,
 "nbformat_minor": 2
}
