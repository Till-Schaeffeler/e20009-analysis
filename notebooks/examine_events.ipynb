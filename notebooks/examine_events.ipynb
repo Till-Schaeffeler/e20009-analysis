{
 "cells": [
  {
   "cell_type": "code",
   "execution_count": 2,
   "metadata": {},
   "outputs": [],
   "source": [
    "from pathlib import Path\n",
    "import h5py as h5\n",
    "import numpy as np\n",
    "import matplotlib.pyplot as plt\n",
    "\n",
    "%matplotlib widget"
   ]
  },
  {
   "cell_type": "code",
   "execution_count": 154,
   "metadata": {},
   "outputs": [],
   "source": [
    "# File path to your text file\n",
    "file_path = 'C:\\\\Users\\\\schaeffe\\\\Desktop\\\\dalitz_clustering\\\\14_5_16_four_plus.txt'\n",
    "\n",
    "# path_to_clouds = Path(\"C:\\\\Users\\\\schae\\\\Documents\\\\e20009\\\\old\\\\clouds\") #Data \n",
    "path_to_clouds_sim = Path('C:\\\\Users\\\\schaeffe\\\\Desktop\\\\e20009_analysis-dev_1_18_2025\\\\e20009_analysis-dev\\\\PointcloudLegacy\\\\')\n",
    "\n",
    "# Load the file and preprocess the data\n",
    "with open(file_path, 'r') as file:\n",
    "    data = [eval(line.strip()) for line in file]\n",
    "\n",
    "# Convert the list of lists into a NumPy array\n",
    "evts = np.array(data)\n",
    "\n",
    "# Print the resulting NumPy array\n",
    "# print(four_plus_clusters)"
   ]
  },
  {
   "cell_type": "code",
   "execution_count": 155,
   "metadata": {},
   "outputs": [
    {
     "name": "stdout",
     "output_type": "stream",
     "text": [
      "399\n"
     ]
    }
   ],
   "source": [
    "print(len(evts))"
   ]
  },
  {
   "cell_type": "code",
   "execution_count": 194,
   "metadata": {},
   "outputs": [],
   "source": [
    "i = 30\n",
    "# i = 65"
   ]
  },
  {
   "cell_type": "code",
   "execution_count": 574,
   "metadata": {},
   "outputs": [
    {
     "ename": "IndexError",
     "evalue": "index 399 is out of bounds for axis 0 with size 399",
     "output_type": "error",
     "traceback": [
      "\u001b[1;31m---------------------------------------------------------------------------\u001b[0m",
      "\u001b[1;31mIndexError\u001b[0m                                Traceback (most recent call last)",
      "Cell \u001b[1;32mIn[574], line 1\u001b[0m\n\u001b[1;32m----> 1\u001b[0m run \u001b[38;5;241m=\u001b[39m \u001b[43mevts\u001b[49m\u001b[43m[\u001b[49m\u001b[43mi\u001b[49m\u001b[43m]\u001b[49m[\u001b[38;5;241m0\u001b[39m]\n\u001b[0;32m      2\u001b[0m event \u001b[38;5;241m=\u001b[39m evts[i][\u001b[38;5;241m1\u001b[39m]\n\u001b[0;32m      5\u001b[0m \u001b[38;5;66;03m# print(f\"Run: {run}, Event: {event}\")\u001b[39;00m\n",
      "\u001b[1;31mIndexError\u001b[0m: index 399 is out of bounds for axis 0 with size 399"
     ]
    }
   ],
   "source": [
    "run = evts[i][0]\n",
    "event = evts[i][1]\n",
    "\n",
    "\n",
    "# print(f\"Run: {run}, Event: {event}\")\n",
    "h5_path = path_to_clouds_sim / f\"run_{run:04d}.h5\"\n",
    "h5_file = h5.File(h5_path, \"r\")\n",
    "cloud_group = h5_file[\"cloud\"]\n",
    "\n",
    "event_name = f\"cloud_{event}\"\n",
    "cloud: h5.Dataset = cloud_group[event_name] # type: ignore\n",
    "        # Load the cloud in a Numpy array \n",
    "cloud: np.ndarray = cloud[:,:4].copy()\n",
    "\n",
    "\n",
    "fig, axes = plt.subplot_mosaic(\n",
    "    \"\"\"\n",
    "    A\n",
    "    \"\"\",\n",
    "    per_subplot_kw={\n",
    "        \"A\": {\n",
    "            \"projection\": \"3d\",\n",
    "            \"box_aspect\": (2,1,1),\n",
    "            \"aspect\": \"equalxy\" \n",
    "        }\n",
    "    },\n",
    "    constrained_layout=True\n",
    ")\n",
    "axes[\"A\"].scatter(cloud[:, 2], cloud[:, 0], cloud[:, 1], c=cloud[:, 3], s=3, label=f\"Run: {run}, Event: {event}\")\n",
    "axes[\"A\"].set_xlabel(\"Z\")\n",
    "axes[\"A\"].set_ylabel(\"X\")\n",
    "axes[\"A\"].set_zlabel(\"Y\")\n",
    "axes[\"A\"].set_xlim(0.0, 1000.0)\n",
    "axes[\"A\"].set_ylim(-300.0, 300.0)\n",
    "axes[\"A\"].set_zlim(-300.0, 300.0)\n",
    "fig.legend()\n",
    "plt.show()\n",
    "\n",
    "# fig, ax = plt.subplots(constrained_layout=True)\n",
    "# ax.scatter(cloud[:, 0], cloud[:, 1], c=cloud[:, 3], s=3, label=\"Pointcloud\")\n",
    "# ax.set_xlabel(\"X\")\n",
    "# ax.set_ylabel(\"Y\")\n",
    "# ax.set_xlim(-300.0, 300.0)\n",
    "# ax.set_ylim(-300.0, 300.0)\n",
    "# ax.legend()\n",
    "\n",
    "\n",
    "i = i + 1\n",
    "   "
   ]
  },
  {
   "cell_type": "code",
   "execution_count": 575,
   "metadata": {},
   "outputs": [
    {
     "name": "stdout",
     "output_type": "stream",
     "text": [
      "399\n"
     ]
    }
   ],
   "source": [
    "print(i)"
   ]
  },
  {
   "cell_type": "code",
   "execution_count": 8,
   "metadata": {},
   "outputs": [],
   "source": [
    "# print(evts[i])"
   ]
  },
  {
   "cell_type": "code",
   "execution_count": null,
   "metadata": {},
   "outputs": [],
   "source": []
  }
 ],
 "metadata": {
  "kernelspec": {
   "display_name": "zach_spyral-env",
   "language": "python",
   "name": "python3"
  },
  "language_info": {
   "codemirror_mode": {
    "name": "ipython",
    "version": 3
   },
   "file_extension": ".py",
   "mimetype": "text/x-python",
   "name": "python",
   "nbconvert_exporter": "python",
   "pygments_lexer": "ipython3",
   "version": "3.12.7"
  }
 },
 "nbformat": 4,
 "nbformat_minor": 2
}
