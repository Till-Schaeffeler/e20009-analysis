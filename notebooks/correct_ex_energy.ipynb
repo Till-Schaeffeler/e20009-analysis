{
 "cells": [
  {
   "cell_type": "code",
   "execution_count": 7,
   "metadata": {},
   "outputs": [],
   "source": [
    "import sys\n",
    "sys.path.append('..')\n",
    "\n",
    "from spyral.core.constants import QBRHO_2_P\n",
    "from spyral.core.run_stacks import form_run_string\n",
    "\n",
    "from spyral_utils.nuclear import NuclearDataMap\n",
    "from spyral_utils.nuclear.target import GasTarget, load_target\n",
    "from spyral_utils.plot import Histogrammer\n",
    "\n",
    "from pathlib import Path\n",
    "from scipy.constants import physical_constants, torr\n",
    "from scipy.integrate import quad\n",
    "from scipy.stats import iqr\n",
    "import polars as pl\n",
    "import numpy as np\n",
    "import matplotlib.pyplot as plt\n",
    "import vector\n",
    "import lmfit\n",
    "\n",
    "%matplotlib widget"
   ]
  },
  {
   "cell_type": "code",
   "execution_count": 8,
   "metadata": {},
   "outputs": [],
   "source": [
    "target_material_path = Path(\"C:\\\\Users\\\\schaeffe\\\\Desktop\\\\e20009-analysis\\\\e20009_parameters\\\\e20009_target.json\")"
   ]
  },
  {
   "cell_type": "code",
   "execution_count": 9,
   "metadata": {},
   "outputs": [],
   "source": [
    "# Run number range (inclusive)\n",
    "run_min = 108\n",
    "run_max = 320\n",
    "\n",
    "# The nucleus we observe (the one fitted)\n",
    "ejectile_z = 1\n",
    "ejectile_a = 1\n",
    "\n",
    "# The incoming nucleus (the beam)\n",
    "projectile_z = 5\n",
    "projectile_a = 10\n",
    "\n",
    "# The target nucleus\n",
    "target_z = 1\n",
    "target_a = 2\n",
    "\n",
    "residual_z = target_z + projectile_z - ejectile_z\n",
    "residual_a = target_a + projectile_a - ejectile_a\n",
    "\n",
    "if residual_z < 0:\n",
    "    raise Exception(f\"Illegal nuclei! Residual Z: {residual_z}\")\n",
    "if residual_a < 1:\n",
    "    raise Exception(f\"Illegal nuclei! Residual A: {residual_a}\")"
   ]
  },
  {
   "cell_type": "code",
   "execution_count": 10,
   "metadata": {},
   "outputs": [
    {
     "name": "stdout",
     "output_type": "stream",
     "text": [
      "Reaction: 2H(10B, 1H)11B\n",
      "Target material: (Gas)2H2\n"
     ]
    }
   ],
   "source": [
    "# Setup nuclear data objects\n",
    "nuclear_map = NuclearDataMap()\n",
    "\n",
    "target_material = load_target(target_material_path, nuclear_map)\n",
    "if not isinstance(target_material, GasTarget):\n",
    "    print('Target error!')\n",
    "\n",
    "ejectile = nuclear_map.get_data(ejectile_z, ejectile_a)\n",
    "projectile = nuclear_map.get_data(projectile_z, projectile_a)\n",
    "target = nuclear_map.get_data(target_z, target_a)\n",
    "residual = nuclear_map.get_data(residual_z, residual_a)\n",
    "\n",
    "print(f\"Reaction: {target}({projectile}, {ejectile}){residual}\")\n",
    "print(f\"Target material: {target_material.ugly_string}\")"
   ]
  },
  {
   "cell_type": "code",
   "execution_count": 11,
   "metadata": {},
   "outputs": [],
   "source": [
    "results = {}\n",
    "\n",
    "# Add keys for result parameters\n",
    "results[\"polar\"] = np.empty(0, float)\n",
    "results[\"kinetic_energy\"] = np.empty(0, float)\n",
    "results[\"ex_energy\"] = np.empty(0, float)\n",
    "results[\"cm_polar\"] = np.empty(0, float)\n",
    "results[\"chisq\"] = np.empty(0, float)\n",
    "results[\"z_vert\"] = np.empty(0, float)"
   ]
  },
  {
   "cell_type": "code",
   "execution_count": 12,
   "metadata": {},
   "outputs": [],
   "source": [
    "proj_energy_start = 106 # Beam Energy, MeV"
   ]
  },
  {
   "cell_type": "code",
   "execution_count": 13,
   "metadata": {},
   "outputs": [
    {
     "name": "stdout",
     "output_type": "stream",
     "text": [
      "Target Vector: [(0., 0., 0., 1875.6129314)]\n",
      "Projectile Vector: [(0., 0., 1378.36938188, 9425.76368529)]\n",
      "Ejectile Vector: (28.65407307, 113.0283625, 43.19526475, 946.47598271)\n",
      "B11 Excitation Energy: [15.25038914]\n"
     ]
    }
   ],
   "source": [
    "target_vector = vector.array({\"px\": [0.0], \"py\": [0.0], \"pz\": [0.0], \"E\": [target.mass]})\n",
    "\n",
    "print(f\"Target Vector: {target_vector}\")\n",
    "\n",
    "\n",
    "# Fitted proton vertices 297_590868 ##\n",
    "# x, y, z\n",
    "# proton_x_vertex = -0.01995104\n",
    "# proton_y_vertex = -0.00139850\n",
    "# proton_z_vertex = 0.39123998\n",
    "\n",
    "# proton_fitted_brho = 0.71039552 \n",
    "# proton_fitted_polar = 0.75429091 # radian\n",
    "# proton_fitted_azimuthal = 4.73009530 # radian\n",
    "\n",
    "# Fitted proton vertices 256_597527 ##\n",
    "\n",
    "proton_x_vertex = 0.00503193\n",
    "proton_y_vertex = 0.00584341\n",
    "proton_z_vertex = 0.28346858\n",
    "proton_fitted_brho = 0.41477857\n",
    "proton_fitted_polar = 1.21602552 # radian\n",
    "proton_fitted_azimuthal = 1.32251477 # radian\n",
    "\n",
    "\n",
    "vertices = np.array([proton_x_vertex, proton_y_vertex, proton_z_vertex])\n",
    "distance = np.linalg.norm(vertices)  # This is a float, no need to convert\n",
    "distances = np.array([distance])  # Store as an array if needed\n",
    "\n",
    "projectile_ke = proj_energy_start - target_material.get_energy_loss(projectile, proj_energy_start, distances)\n",
    "# print(vertices)\n",
    "# print(distances)  \n",
    "# print(projectile_ke)\n",
    "\n",
    "projectile_vector = vector.array({                                           # Amount of energy lost by beam\n",
    "        \"px\": np.zeros(len(projectile_ke)),\n",
    "        \"py\": np.zeros(len(projectile_ke)),\n",
    "        \"pz\": np.sqrt(projectile_ke * (projectile_ke + 2.0 * projectile.mass)),\n",
    "        \"E\": projectile_ke + projectile.mass\n",
    "    })             \n",
    "\n",
    "print(f\"Projectile Vector: {projectile_vector}\") \n",
    "\n",
    "momentum = proton_fitted_brho * float(ejectile.Z) * QBRHO_2_P\n",
    "kinetic_energy = np.sqrt(momentum**2.0 + ejectile.mass**2.0) - ejectile.mass\n",
    "\n",
    "ejectile_vector = vector.array({\n",
    "        \"px\": momentum * np.sin(proton_fitted_polar) * np.cos(proton_fitted_azimuthal),\n",
    "        \"py\": momentum * np.sin(proton_fitted_polar) * np.sin(proton_fitted_azimuthal),\n",
    "        \"pz\": momentum * np.cos(proton_fitted_polar),\n",
    "        \"E\": np.sqrt(momentum**2.0 + ejectile.mass**2.0)\n",
    "})\n",
    "\n",
    "print(f\"Ejectile Vector: {ejectile_vector}\") \n",
    "\n",
    "residual_vector = target_vector + projectile_vector - ejectile_vector # type: ignore\n",
    "ex_energy = residual_vector.mass - residual.mass # Excitation energy is \"extra\" mass\n",
    "\n",
    "print(f\"B11 Excitation Energy: {ex_energy}\")"
   ]
  },
  {
   "cell_type": "code",
   "execution_count": null,
   "metadata": {},
   "outputs": [],
   "source": []
  }
 ],
 "metadata": {
  "kernelspec": {
   "display_name": "e20009_spyral_v11",
   "language": "python",
   "name": "python3"
  },
  "language_info": {
   "codemirror_mode": {
    "name": "ipython",
    "version": 3
   },
   "file_extension": ".py",
   "mimetype": "text/x-python",
   "name": "python",
   "nbconvert_exporter": "python",
   "pygments_lexer": "ipython3",
   "version": "3.12.9"
  }
 },
 "nbformat": 4,
 "nbformat_minor": 2
}
